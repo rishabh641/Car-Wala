{
  "nbformat": 4,
  "nbformat_minor": 0,
  "metadata": {
    "colab": {
      "name": "Car price prediction model.ipynb",
      "provenance": []
    },
    "kernelspec": {
      "name": "python3",
      "display_name": "Python 3"
    },
    "language_info": {
      "name": "python"
    }
  },
  "cells": [
    {
      "cell_type": "code",
      "metadata": {
        "id": "1d3Pt5JvgW77",
        "colab": {
          "base_uri": "https://localhost:8080/"
        },
        "outputId": "06876806-95ce-423f-c36b-89a54c7e83b9"
      },
      "source": [
        "pwd"
      ],
      "execution_count": null,
      "outputs": [
        {
          "output_type": "execute_result",
          "data": {
            "text/plain": [
              "'C:\\\\Users\\\\Dell\\\\Desktop'"
            ]
          },
          "metadata": {
            "tags": []
          },
          "execution_count": 56
        }
      ]
    },
    {
      "cell_type": "code",
      "metadata": {
        "colab": {
          "base_uri": "https://localhost:8080/"
        },
        "id": "FmdUnRZvpOBf",
        "outputId": "15cc0a1d-3d04-426c-f146-b65401fa5c66"
      },
      "source": [
        "cd C:\\Users\\Dell\\Downloads"
      ],
      "execution_count": null,
      "outputs": [
        {
          "output_type": "stream",
          "text": [
            "C:\\Users\\Dell\\Downloads\n"
          ],
          "name": "stdout"
        }
      ]
    },
    {
      "cell_type": "code",
      "metadata": {
        "id": "zQOn_TKspYsf"
      },
      "source": [
        "import pandas as pd\n",
        "import numpy as np"
      ],
      "execution_count": null,
      "outputs": []
    },
    {
      "cell_type": "code",
      "metadata": {
        "id": "lx5h2odMpuRp"
      },
      "source": [
        "data=pd.read_csv('train-data.csv')"
      ],
      "execution_count": null,
      "outputs": []
    },
    {
      "cell_type": "code",
      "metadata": {
        "colab": {
          "base_uri": "https://localhost:8080/"
        },
        "id": "6c8kDcQGqu1E",
        "outputId": "4d121e10-396b-4fee-f636-b134e566e716"
      },
      "source": [
        "data.head"
      ],
      "execution_count": null,
      "outputs": [
        {
          "output_type": "execute_result",
          "data": {
            "text/plain": [
              "<bound method NDFrame.head of       Unnamed: 0                              Name    Location  Year  \\\n",
              "0              0            Maruti Wagon R LXI CNG      Mumbai  2010   \n",
              "1              1  Hyundai Creta 1.6 CRDi SX Option        Pune  2015   \n",
              "2              2                      Honda Jazz V     Chennai  2011   \n",
              "3              3                 Maruti Ertiga VDI     Chennai  2012   \n",
              "4              4   Audi A4 New 2.0 TDI Multitronic  Coimbatore  2013   \n",
              "...          ...                               ...         ...   ...   \n",
              "6014        6014                  Maruti Swift VDI       Delhi  2014   \n",
              "6015        6015          Hyundai Xcent 1.1 CRDi S      Jaipur  2015   \n",
              "6016        6016             Mahindra Xylo D4 BSIV      Jaipur  2012   \n",
              "6017        6017                Maruti Wagon R VXI     Kolkata  2013   \n",
              "6018        6018             Chevrolet Beat Diesel   Hyderabad  2011   \n",
              "\n",
              "      Kilometers_Driven Fuel_Type Transmission Owner_Type     Mileage  \\\n",
              "0                 72000       CNG       Manual      First  26.6 km/kg   \n",
              "1                 41000    Diesel       Manual      First  19.67 kmpl   \n",
              "2                 46000    Petrol       Manual      First   18.2 kmpl   \n",
              "3                 87000    Diesel       Manual      First  20.77 kmpl   \n",
              "4                 40670    Diesel    Automatic     Second   15.2 kmpl   \n",
              "...                 ...       ...          ...        ...         ...   \n",
              "6014              27365    Diesel       Manual      First   28.4 kmpl   \n",
              "6015             100000    Diesel       Manual      First   24.4 kmpl   \n",
              "6016              55000    Diesel       Manual     Second   14.0 kmpl   \n",
              "6017              46000    Petrol       Manual      First   18.9 kmpl   \n",
              "6018              47000    Diesel       Manual      First  25.44 kmpl   \n",
              "\n",
              "       Engine      Power  Seats  New_Price  Price  \n",
              "0      998 CC  58.16 bhp    5.0        NaN   1.75  \n",
              "1     1582 CC  126.2 bhp    5.0        NaN  12.50  \n",
              "2     1199 CC   88.7 bhp    5.0  8.61 Lakh   4.50  \n",
              "3     1248 CC  88.76 bhp    7.0        NaN   6.00  \n",
              "4     1968 CC  140.8 bhp    5.0        NaN  17.74  \n",
              "...       ...        ...    ...        ...    ...  \n",
              "6014  1248 CC     74 bhp    5.0  7.88 Lakh   4.75  \n",
              "6015  1120 CC     71 bhp    5.0        NaN   4.00  \n",
              "6016  2498 CC    112 bhp    8.0        NaN   2.90  \n",
              "6017   998 CC   67.1 bhp    5.0        NaN   2.65  \n",
              "6018   936 CC   57.6 bhp    5.0        NaN   2.50  \n",
              "\n",
              "[6019 rows x 14 columns]>"
            ]
          },
          "metadata": {
            "tags": []
          },
          "execution_count": 11
        }
      ]
    },
    {
      "cell_type": "code",
      "metadata": {
        "colab": {
          "base_uri": "https://localhost:8080/"
        },
        "id": "4A2s1CS_q2LF",
        "outputId": "7655752d-4441-4271-b709-e161f2b94e48"
      },
      "source": [
        "data.columns"
      ],
      "execution_count": null,
      "outputs": [
        {
          "output_type": "execute_result",
          "data": {
            "text/plain": [
              "Index(['Unnamed: 0', 'Name', 'Location', 'Year', 'Kilometers_Driven',\n",
              "       'Fuel_Type', 'Transmission', 'Owner_Type', 'Mileage', 'Engine', 'Power',\n",
              "       'Seats', 'New_Price', 'Price'],\n",
              "      dtype='object')"
            ]
          },
          "metadata": {
            "tags": []
          },
          "execution_count": 12
        }
      ]
    },
    {
      "cell_type": "code",
      "metadata": {
        "id": "CasI9CgNq9_W"
      },
      "source": [
        "mdata=data"
      ],
      "execution_count": null,
      "outputs": []
    },
    {
      "cell_type": "code",
      "metadata": {
        "id": "zK9oCM0crc11"
      },
      "source": [
        "company=data['Name'].str.split().str.get(0)\n",
        "\n"
      ],
      "execution_count": null,
      "outputs": []
    },
    {
      "cell_type": "code",
      "metadata": {
        "colab": {
          "base_uri": "https://localhost:8080/"
        },
        "id": "kKEpki6ZsETj",
        "outputId": "482e74b8-52a1-479e-e442-3682da3c74b9"
      },
      "source": [
        "company.unique()"
      ],
      "execution_count": null,
      "outputs": [
        {
          "output_type": "execute_result",
          "data": {
            "text/plain": [
              "array(['Maruti', 'Hyundai', 'Honda', 'Audi', 'Nissan', 'Toyota',\n",
              "       'Volkswagen', 'Tata', 'Land', 'Mitsubishi', 'Renault',\n",
              "       'Mercedes-Benz', 'BMW', 'Mahindra', 'Ford', 'Porsche', 'Datsun',\n",
              "       'Jaguar', 'Volvo', 'Chevrolet', 'Skoda', 'Mini', 'Fiat', 'Jeep',\n",
              "       'Smart', 'Ambassador', 'Isuzu', 'ISUZU', 'Force', 'Bentley',\n",
              "       'Lamborghini'], dtype=object)"
            ]
          },
          "metadata": {
            "tags": []
          },
          "execution_count": 30
        }
      ]
    },
    {
      "cell_type": "code",
      "metadata": {
        "id": "XtnLaqPyub0W"
      },
      "source": [
        "df=pd.DataFrame(list(zip(data['Name'],company,data['Year'],data['Price'],data['Kilometers_Driven'],data['Fuel_Type'])),columns=['name','company','year','price','kms_driven','fuel_type'])"
      ],
      "execution_count": null,
      "outputs": []
    },
    {
      "cell_type": "code",
      "metadata": {
        "colab": {
          "base_uri": "https://localhost:8080/",
          "height": 417
        },
        "id": "MSl7Cu5yvpjG",
        "outputId": "4ab50aee-5c54-433e-b71d-a02c6445eea1"
      },
      "source": [
        "df"
      ],
      "execution_count": null,
      "outputs": [
        {
          "output_type": "execute_result",
          "data": {
            "text/plain": [
              "                                  name    company  year  price  kms_driven  \\\n",
              "0               Maruti Wagon R LXI CNG     Maruti  2010   1.75       72000   \n",
              "1     Hyundai Creta 1.6 CRDi SX Option    Hyundai  2015  12.50       41000   \n",
              "2                         Honda Jazz V      Honda  2011   4.50       46000   \n",
              "3                    Maruti Ertiga VDI     Maruti  2012   6.00       87000   \n",
              "4      Audi A4 New 2.0 TDI Multitronic       Audi  2013  17.74       40670   \n",
              "...                                ...        ...   ...    ...         ...   \n",
              "6014                  Maruti Swift VDI     Maruti  2014   4.75       27365   \n",
              "6015          Hyundai Xcent 1.1 CRDi S    Hyundai  2015   4.00      100000   \n",
              "6016             Mahindra Xylo D4 BSIV   Mahindra  2012   2.90       55000   \n",
              "6017                Maruti Wagon R VXI     Maruti  2013   2.65       46000   \n",
              "6018             Chevrolet Beat Diesel  Chevrolet  2011   2.50       47000   \n",
              "\n",
              "     fuel_type  \n",
              "0          CNG  \n",
              "1       Diesel  \n",
              "2       Petrol  \n",
              "3       Diesel  \n",
              "4       Diesel  \n",
              "...        ...  \n",
              "6014    Diesel  \n",
              "6015    Diesel  \n",
              "6016    Diesel  \n",
              "6017    Petrol  \n",
              "6018    Diesel  \n",
              "\n",
              "[6019 rows x 6 columns]"
            ],
            "text/html": [
              "<div>\n",
              "<style scoped>\n",
              "    .dataframe tbody tr th:only-of-type {\n",
              "        vertical-align: middle;\n",
              "    }\n",
              "\n",
              "    .dataframe tbody tr th {\n",
              "        vertical-align: top;\n",
              "    }\n",
              "\n",
              "    .dataframe thead th {\n",
              "        text-align: right;\n",
              "    }\n",
              "</style>\n",
              "<table border=\"1\" class=\"dataframe\">\n",
              "  <thead>\n",
              "    <tr style=\"text-align: right;\">\n",
              "      <th></th>\n",
              "      <th>name</th>\n",
              "      <th>company</th>\n",
              "      <th>year</th>\n",
              "      <th>price</th>\n",
              "      <th>kms_driven</th>\n",
              "      <th>fuel_type</th>\n",
              "    </tr>\n",
              "  </thead>\n",
              "  <tbody>\n",
              "    <tr>\n",
              "      <th>0</th>\n",
              "      <td>Maruti Wagon R LXI CNG</td>\n",
              "      <td>Maruti</td>\n",
              "      <td>2010</td>\n",
              "      <td>1.75</td>\n",
              "      <td>72000</td>\n",
              "      <td>CNG</td>\n",
              "    </tr>\n",
              "    <tr>\n",
              "      <th>1</th>\n",
              "      <td>Hyundai Creta 1.6 CRDi SX Option</td>\n",
              "      <td>Hyundai</td>\n",
              "      <td>2015</td>\n",
              "      <td>12.50</td>\n",
              "      <td>41000</td>\n",
              "      <td>Diesel</td>\n",
              "    </tr>\n",
              "    <tr>\n",
              "      <th>2</th>\n",
              "      <td>Honda Jazz V</td>\n",
              "      <td>Honda</td>\n",
              "      <td>2011</td>\n",
              "      <td>4.50</td>\n",
              "      <td>46000</td>\n",
              "      <td>Petrol</td>\n",
              "    </tr>\n",
              "    <tr>\n",
              "      <th>3</th>\n",
              "      <td>Maruti Ertiga VDI</td>\n",
              "      <td>Maruti</td>\n",
              "      <td>2012</td>\n",
              "      <td>6.00</td>\n",
              "      <td>87000</td>\n",
              "      <td>Diesel</td>\n",
              "    </tr>\n",
              "    <tr>\n",
              "      <th>4</th>\n",
              "      <td>Audi A4 New 2.0 TDI Multitronic</td>\n",
              "      <td>Audi</td>\n",
              "      <td>2013</td>\n",
              "      <td>17.74</td>\n",
              "      <td>40670</td>\n",
              "      <td>Diesel</td>\n",
              "    </tr>\n",
              "    <tr>\n",
              "      <th>...</th>\n",
              "      <td>...</td>\n",
              "      <td>...</td>\n",
              "      <td>...</td>\n",
              "      <td>...</td>\n",
              "      <td>...</td>\n",
              "      <td>...</td>\n",
              "    </tr>\n",
              "    <tr>\n",
              "      <th>6014</th>\n",
              "      <td>Maruti Swift VDI</td>\n",
              "      <td>Maruti</td>\n",
              "      <td>2014</td>\n",
              "      <td>4.75</td>\n",
              "      <td>27365</td>\n",
              "      <td>Diesel</td>\n",
              "    </tr>\n",
              "    <tr>\n",
              "      <th>6015</th>\n",
              "      <td>Hyundai Xcent 1.1 CRDi S</td>\n",
              "      <td>Hyundai</td>\n",
              "      <td>2015</td>\n",
              "      <td>4.00</td>\n",
              "      <td>100000</td>\n",
              "      <td>Diesel</td>\n",
              "    </tr>\n",
              "    <tr>\n",
              "      <th>6016</th>\n",
              "      <td>Mahindra Xylo D4 BSIV</td>\n",
              "      <td>Mahindra</td>\n",
              "      <td>2012</td>\n",
              "      <td>2.90</td>\n",
              "      <td>55000</td>\n",
              "      <td>Diesel</td>\n",
              "    </tr>\n",
              "    <tr>\n",
              "      <th>6017</th>\n",
              "      <td>Maruti Wagon R VXI</td>\n",
              "      <td>Maruti</td>\n",
              "      <td>2013</td>\n",
              "      <td>2.65</td>\n",
              "      <td>46000</td>\n",
              "      <td>Petrol</td>\n",
              "    </tr>\n",
              "    <tr>\n",
              "      <th>6018</th>\n",
              "      <td>Chevrolet Beat Diesel</td>\n",
              "      <td>Chevrolet</td>\n",
              "      <td>2011</td>\n",
              "      <td>2.50</td>\n",
              "      <td>47000</td>\n",
              "      <td>Diesel</td>\n",
              "    </tr>\n",
              "  </tbody>\n",
              "</table>\n",
              "<p>6019 rows × 6 columns</p>\n",
              "</div>"
            ]
          },
          "metadata": {
            "tags": []
          },
          "execution_count": 32
        }
      ]
    },
    {
      "cell_type": "code",
      "metadata": {
        "colab": {
          "base_uri": "https://localhost:8080/"
        },
        "id": "e7RQAkVsvrBT",
        "outputId": "776416df-d74c-419d-aefe-fd4f58df8acd"
      },
      "source": [
        "type(df['year'][0])\n"
      ],
      "execution_count": null,
      "outputs": [
        {
          "output_type": "execute_result",
          "data": {
            "text/plain": [
              "numpy.int64"
            ]
          },
          "metadata": {
            "tags": []
          },
          "execution_count": 42
        }
      ]
    },
    {
      "cell_type": "code",
      "metadata": {
        "id": "GXItjnaFv6Vr"
      },
      "source": [
        "df['price']=df['price']*100000"
      ],
      "execution_count": null,
      "outputs": []
    },
    {
      "cell_type": "code",
      "metadata": {
        "colab": {
          "base_uri": "https://localhost:8080/"
        },
        "id": "PQ_VieTbxPAF",
        "outputId": "ed739104-3f57-45a5-9dab-8c74eb68193a"
      },
      "source": [
        "df['price']"
      ],
      "execution_count": null,
      "outputs": [
        {
          "output_type": "execute_result",
          "data": {
            "text/plain": [
              "0        175000.0\n",
              "1       1250000.0\n",
              "2        450000.0\n",
              "3        600000.0\n",
              "4       1774000.0\n",
              "          ...    \n",
              "6014     475000.0\n",
              "6015     400000.0\n",
              "6016     290000.0\n",
              "6017     265000.0\n",
              "6018     250000.0\n",
              "Name: price, Length: 6019, dtype: float64"
            ]
          },
          "metadata": {
            "tags": []
          },
          "execution_count": 44
        }
      ]
    },
    {
      "cell_type": "code",
      "metadata": {
        "colab": {
          "base_uri": "https://localhost:8080/"
        },
        "id": "IjCBvXVvxQo-",
        "outputId": "b1f18cb2-765f-4efb-d839-ce4e0566f7fb"
      },
      "source": [
        "cd C:\\Users\\Dell\\Desktop"
      ],
      "execution_count": null,
      "outputs": [
        {
          "output_type": "stream",
          "text": [
            "C:\\Users\\Dell\\Desktop\n"
          ],
          "name": "stdout"
        }
      ]
    },
    {
      "cell_type": "code",
      "metadata": {
        "id": "FCEgP7oMxufX"
      },
      "source": [
        "df.to_csv('cars.csv')"
      ],
      "execution_count": null,
      "outputs": []
    },
    {
      "cell_type": "code",
      "metadata": {
        "id": "r3cH4zQjyKgp"
      },
      "source": [
        "df1=pd.read_csv('cars.csv')"
      ],
      "execution_count": null,
      "outputs": []
    },
    {
      "cell_type": "code",
      "metadata": {
        "id": "JtKtMZskKXAY"
      },
      "source": [
        "df1=df1{'name','company','year','price'}"
      ],
      "execution_count": null,
      "outputs": []
    },
    {
      "cell_type": "code",
      "metadata": {
        "id": "wQEzryO_K0w0"
      },
      "source": [
        "df1=pd.read_csv('cars.csv')"
      ],
      "execution_count": null,
      "outputs": []
    },
    {
      "cell_type": "code",
      "metadata": {
        "id": "rcvSEb8GM3Id"
      },
      "source": [
        "df1.to_csv('cars_modified.csv')"
      ],
      "execution_count": null,
      "outputs": []
    },
    {
      "cell_type": "code",
      "metadata": {
        "colab": {
          "base_uri": "https://localhost:8080/",
          "height": 295
        },
        "id": "x4ZK-WExM8w1",
        "outputId": "cf7617f5-2cf9-43bb-8455-c4983ba07a26"
      },
      "source": [
        "df1.describe()"
      ],
      "execution_count": null,
      "outputs": [
        {
          "output_type": "execute_result",
          "data": {
            "text/plain": [
              "              year         price    kms_driven\n",
              "count  6019.000000  6.019000e+03  6.019000e+03\n",
              "mean   2013.358199  9.479468e+05  5.873838e+04\n",
              "std       3.269742  1.118792e+06  9.126884e+04\n",
              "min    1998.000000  4.400000e+04  1.710000e+02\n",
              "25%    2011.000000  3.500000e+05  3.400000e+04\n",
              "50%    2014.000000  5.640000e+05  5.300000e+04\n",
              "75%    2016.000000  9.950000e+05  7.300000e+04\n",
              "max    2019.000000  1.600000e+07  6.500000e+06"
            ],
            "text/html": [
              "<div>\n",
              "<style scoped>\n",
              "    .dataframe tbody tr th:only-of-type {\n",
              "        vertical-align: middle;\n",
              "    }\n",
              "\n",
              "    .dataframe tbody tr th {\n",
              "        vertical-align: top;\n",
              "    }\n",
              "\n",
              "    .dataframe thead th {\n",
              "        text-align: right;\n",
              "    }\n",
              "</style>\n",
              "<table border=\"1\" class=\"dataframe\">\n",
              "  <thead>\n",
              "    <tr style=\"text-align: right;\">\n",
              "      <th></th>\n",
              "      <th>year</th>\n",
              "      <th>price</th>\n",
              "      <th>kms_driven</th>\n",
              "    </tr>\n",
              "  </thead>\n",
              "  <tbody>\n",
              "    <tr>\n",
              "      <th>count</th>\n",
              "      <td>6019.000000</td>\n",
              "      <td>6.019000e+03</td>\n",
              "      <td>6.019000e+03</td>\n",
              "    </tr>\n",
              "    <tr>\n",
              "      <th>mean</th>\n",
              "      <td>2013.358199</td>\n",
              "      <td>9.479468e+05</td>\n",
              "      <td>5.873838e+04</td>\n",
              "    </tr>\n",
              "    <tr>\n",
              "      <th>std</th>\n",
              "      <td>3.269742</td>\n",
              "      <td>1.118792e+06</td>\n",
              "      <td>9.126884e+04</td>\n",
              "    </tr>\n",
              "    <tr>\n",
              "      <th>min</th>\n",
              "      <td>1998.000000</td>\n",
              "      <td>4.400000e+04</td>\n",
              "      <td>1.710000e+02</td>\n",
              "    </tr>\n",
              "    <tr>\n",
              "      <th>25%</th>\n",
              "      <td>2011.000000</td>\n",
              "      <td>3.500000e+05</td>\n",
              "      <td>3.400000e+04</td>\n",
              "    </tr>\n",
              "    <tr>\n",
              "      <th>50%</th>\n",
              "      <td>2014.000000</td>\n",
              "      <td>5.640000e+05</td>\n",
              "      <td>5.300000e+04</td>\n",
              "    </tr>\n",
              "    <tr>\n",
              "      <th>75%</th>\n",
              "      <td>2016.000000</td>\n",
              "      <td>9.950000e+05</td>\n",
              "      <td>7.300000e+04</td>\n",
              "    </tr>\n",
              "    <tr>\n",
              "      <th>max</th>\n",
              "      <td>2019.000000</td>\n",
              "      <td>1.600000e+07</td>\n",
              "      <td>6.500000e+06</td>\n",
              "    </tr>\n",
              "  </tbody>\n",
              "</table>\n",
              "</div>"
            ]
          },
          "metadata": {
            "tags": []
          },
          "execution_count": 105
        }
      ]
    },
    {
      "cell_type": "code",
      "metadata": {
        "colab": {
          "base_uri": "https://localhost:8080/",
          "height": 417
        },
        "id": "K8JpYxduPMZ6",
        "outputId": "e5730335-93fa-4e98-91cf-48072291685e"
      },
      "source": [
        "df1[df1['price']<1e5].reset_index(drop=True)"
      ],
      "execution_count": null,
      "outputs": [
        {
          "output_type": "execute_result",
          "data": {
            "text/plain": [
              "                                    name    company  year    price  \\\n",
              "0   Hyundai Santro Xing XL eRLX Euro III    Hyundai  2005  85000.0   \n",
              "1                Tata Indica V2 DLS BSII       Tata  2007  85000.0   \n",
              "2    Hyundai Santro Xing XO eRLX Euro II    Hyundai  2007  95000.0   \n",
              "3                    Maruti Zen VXI BSII     Maruti  2002  55000.0   \n",
              "4                 Chevrolet Spark 1.0 LS  Chevrolet  2011  95000.0   \n",
              "..                                   ...        ...   ...      ...   \n",
              "72                    Hyundai Accent GLE    Hyundai  2005  70000.0   \n",
              "73                    Maruti 800 DX BSII     Maruti  2000  55000.0   \n",
              "74               Maruti Wagon R LX BSIII     Maruti  2006  75000.0   \n",
              "75                      Hyundai Getz GLS    Hyundai  2005  85000.0   \n",
              "76      Tata New Safari DICOR 2.2 VX 4x2       Tata  2008  60000.0   \n",
              "\n",
              "    kms_driven fuel_type  \n",
              "0       102000    Petrol  \n",
              "1       200000    Diesel  \n",
              "2        72000    Petrol  \n",
              "3        60000    Petrol  \n",
              "4        21000    Petrol  \n",
              "..         ...       ...  \n",
              "72       50000    Petrol  \n",
              "73       78000    Petrol  \n",
              "74       65771    Petrol  \n",
              "75      100000    Petrol  \n",
              "76       86000    Diesel  \n",
              "\n",
              "[77 rows x 6 columns]"
            ],
            "text/html": [
              "<div>\n",
              "<style scoped>\n",
              "    .dataframe tbody tr th:only-of-type {\n",
              "        vertical-align: middle;\n",
              "    }\n",
              "\n",
              "    .dataframe tbody tr th {\n",
              "        vertical-align: top;\n",
              "    }\n",
              "\n",
              "    .dataframe thead th {\n",
              "        text-align: right;\n",
              "    }\n",
              "</style>\n",
              "<table border=\"1\" class=\"dataframe\">\n",
              "  <thead>\n",
              "    <tr style=\"text-align: right;\">\n",
              "      <th></th>\n",
              "      <th>name</th>\n",
              "      <th>company</th>\n",
              "      <th>year</th>\n",
              "      <th>price</th>\n",
              "      <th>kms_driven</th>\n",
              "      <th>fuel_type</th>\n",
              "    </tr>\n",
              "  </thead>\n",
              "  <tbody>\n",
              "    <tr>\n",
              "      <th>0</th>\n",
              "      <td>Hyundai Santro Xing XL eRLX Euro III</td>\n",
              "      <td>Hyundai</td>\n",
              "      <td>2005</td>\n",
              "      <td>85000.0</td>\n",
              "      <td>102000</td>\n",
              "      <td>Petrol</td>\n",
              "    </tr>\n",
              "    <tr>\n",
              "      <th>1</th>\n",
              "      <td>Tata Indica V2 DLS BSII</td>\n",
              "      <td>Tata</td>\n",
              "      <td>2007</td>\n",
              "      <td>85000.0</td>\n",
              "      <td>200000</td>\n",
              "      <td>Diesel</td>\n",
              "    </tr>\n",
              "    <tr>\n",
              "      <th>2</th>\n",
              "      <td>Hyundai Santro Xing XO eRLX Euro II</td>\n",
              "      <td>Hyundai</td>\n",
              "      <td>2007</td>\n",
              "      <td>95000.0</td>\n",
              "      <td>72000</td>\n",
              "      <td>Petrol</td>\n",
              "    </tr>\n",
              "    <tr>\n",
              "      <th>3</th>\n",
              "      <td>Maruti Zen VXI BSII</td>\n",
              "      <td>Maruti</td>\n",
              "      <td>2002</td>\n",
              "      <td>55000.0</td>\n",
              "      <td>60000</td>\n",
              "      <td>Petrol</td>\n",
              "    </tr>\n",
              "    <tr>\n",
              "      <th>4</th>\n",
              "      <td>Chevrolet Spark 1.0 LS</td>\n",
              "      <td>Chevrolet</td>\n",
              "      <td>2011</td>\n",
              "      <td>95000.0</td>\n",
              "      <td>21000</td>\n",
              "      <td>Petrol</td>\n",
              "    </tr>\n",
              "    <tr>\n",
              "      <th>...</th>\n",
              "      <td>...</td>\n",
              "      <td>...</td>\n",
              "      <td>...</td>\n",
              "      <td>...</td>\n",
              "      <td>...</td>\n",
              "      <td>...</td>\n",
              "    </tr>\n",
              "    <tr>\n",
              "      <th>72</th>\n",
              "      <td>Hyundai Accent GLE</td>\n",
              "      <td>Hyundai</td>\n",
              "      <td>2005</td>\n",
              "      <td>70000.0</td>\n",
              "      <td>50000</td>\n",
              "      <td>Petrol</td>\n",
              "    </tr>\n",
              "    <tr>\n",
              "      <th>73</th>\n",
              "      <td>Maruti 800 DX BSII</td>\n",
              "      <td>Maruti</td>\n",
              "      <td>2000</td>\n",
              "      <td>55000.0</td>\n",
              "      <td>78000</td>\n",
              "      <td>Petrol</td>\n",
              "    </tr>\n",
              "    <tr>\n",
              "      <th>74</th>\n",
              "      <td>Maruti Wagon R LX BSIII</td>\n",
              "      <td>Maruti</td>\n",
              "      <td>2006</td>\n",
              "      <td>75000.0</td>\n",
              "      <td>65771</td>\n",
              "      <td>Petrol</td>\n",
              "    </tr>\n",
              "    <tr>\n",
              "      <th>75</th>\n",
              "      <td>Hyundai Getz GLS</td>\n",
              "      <td>Hyundai</td>\n",
              "      <td>2005</td>\n",
              "      <td>85000.0</td>\n",
              "      <td>100000</td>\n",
              "      <td>Petrol</td>\n",
              "    </tr>\n",
              "    <tr>\n",
              "      <th>76</th>\n",
              "      <td>Tata New Safari DICOR 2.2 VX 4x2</td>\n",
              "      <td>Tata</td>\n",
              "      <td>2008</td>\n",
              "      <td>60000.0</td>\n",
              "      <td>86000</td>\n",
              "      <td>Diesel</td>\n",
              "    </tr>\n",
              "  </tbody>\n",
              "</table>\n",
              "<p>77 rows × 6 columns</p>\n",
              "</div>"
            ]
          },
          "metadata": {
            "tags": []
          },
          "execution_count": 111
        }
      ]
    },
    {
      "cell_type": "code",
      "metadata": {
        "colab": {
          "base_uri": "https://localhost:8080/",
          "height": 417
        },
        "id": "ExhywO21QATT",
        "outputId": "d2f6f274-1649-4291-b4ac-4421cdaff607"
      },
      "source": [
        "df1"
      ],
      "execution_count": null,
      "outputs": [
        {
          "output_type": "execute_result",
          "data": {
            "text/plain": [
              "                                  name    company  year      price  \\\n",
              "0               Maruti Wagon R LXI CNG     Maruti  2010   175000.0   \n",
              "1     Hyundai Creta 1.6 CRDi SX Option    Hyundai  2015  1250000.0   \n",
              "2                         Honda Jazz V      Honda  2011   450000.0   \n",
              "3                    Maruti Ertiga VDI     Maruti  2012   600000.0   \n",
              "4      Audi A4 New 2.0 TDI Multitronic       Audi  2013  1774000.0   \n",
              "...                                ...        ...   ...        ...   \n",
              "6011                  Maruti Swift VDI     Maruti  2014   475000.0   \n",
              "6012          Hyundai Xcent 1.1 CRDi S    Hyundai  2015   400000.0   \n",
              "6013             Mahindra Xylo D4 BSIV   Mahindra  2012   290000.0   \n",
              "6014                Maruti Wagon R VXI     Maruti  2013   265000.0   \n",
              "6015             Chevrolet Beat Diesel  Chevrolet  2011   250000.0   \n",
              "\n",
              "      kms_driven fuel_type  \n",
              "0          72000       CNG  \n",
              "1          41000    Diesel  \n",
              "2          46000    Petrol  \n",
              "3          87000    Diesel  \n",
              "4          40670    Diesel  \n",
              "...          ...       ...  \n",
              "6011       27365    Diesel  \n",
              "6012      100000    Diesel  \n",
              "6013       55000    Diesel  \n",
              "6014       46000    Petrol  \n",
              "6015       47000    Diesel  \n",
              "\n",
              "[6016 rows x 6 columns]"
            ],
            "text/html": [
              "<div>\n",
              "<style scoped>\n",
              "    .dataframe tbody tr th:only-of-type {\n",
              "        vertical-align: middle;\n",
              "    }\n",
              "\n",
              "    .dataframe tbody tr th {\n",
              "        vertical-align: top;\n",
              "    }\n",
              "\n",
              "    .dataframe thead th {\n",
              "        text-align: right;\n",
              "    }\n",
              "</style>\n",
              "<table border=\"1\" class=\"dataframe\">\n",
              "  <thead>\n",
              "    <tr style=\"text-align: right;\">\n",
              "      <th></th>\n",
              "      <th>name</th>\n",
              "      <th>company</th>\n",
              "      <th>year</th>\n",
              "      <th>price</th>\n",
              "      <th>kms_driven</th>\n",
              "      <th>fuel_type</th>\n",
              "    </tr>\n",
              "  </thead>\n",
              "  <tbody>\n",
              "    <tr>\n",
              "      <th>0</th>\n",
              "      <td>Maruti Wagon R LXI CNG</td>\n",
              "      <td>Maruti</td>\n",
              "      <td>2010</td>\n",
              "      <td>175000.0</td>\n",
              "      <td>72000</td>\n",
              "      <td>CNG</td>\n",
              "    </tr>\n",
              "    <tr>\n",
              "      <th>1</th>\n",
              "      <td>Hyundai Creta 1.6 CRDi SX Option</td>\n",
              "      <td>Hyundai</td>\n",
              "      <td>2015</td>\n",
              "      <td>1250000.0</td>\n",
              "      <td>41000</td>\n",
              "      <td>Diesel</td>\n",
              "    </tr>\n",
              "    <tr>\n",
              "      <th>2</th>\n",
              "      <td>Honda Jazz V</td>\n",
              "      <td>Honda</td>\n",
              "      <td>2011</td>\n",
              "      <td>450000.0</td>\n",
              "      <td>46000</td>\n",
              "      <td>Petrol</td>\n",
              "    </tr>\n",
              "    <tr>\n",
              "      <th>3</th>\n",
              "      <td>Maruti Ertiga VDI</td>\n",
              "      <td>Maruti</td>\n",
              "      <td>2012</td>\n",
              "      <td>600000.0</td>\n",
              "      <td>87000</td>\n",
              "      <td>Diesel</td>\n",
              "    </tr>\n",
              "    <tr>\n",
              "      <th>4</th>\n",
              "      <td>Audi A4 New 2.0 TDI Multitronic</td>\n",
              "      <td>Audi</td>\n",
              "      <td>2013</td>\n",
              "      <td>1774000.0</td>\n",
              "      <td>40670</td>\n",
              "      <td>Diesel</td>\n",
              "    </tr>\n",
              "    <tr>\n",
              "      <th>...</th>\n",
              "      <td>...</td>\n",
              "      <td>...</td>\n",
              "      <td>...</td>\n",
              "      <td>...</td>\n",
              "      <td>...</td>\n",
              "      <td>...</td>\n",
              "    </tr>\n",
              "    <tr>\n",
              "      <th>6011</th>\n",
              "      <td>Maruti Swift VDI</td>\n",
              "      <td>Maruti</td>\n",
              "      <td>2014</td>\n",
              "      <td>475000.0</td>\n",
              "      <td>27365</td>\n",
              "      <td>Diesel</td>\n",
              "    </tr>\n",
              "    <tr>\n",
              "      <th>6012</th>\n",
              "      <td>Hyundai Xcent 1.1 CRDi S</td>\n",
              "      <td>Hyundai</td>\n",
              "      <td>2015</td>\n",
              "      <td>400000.0</td>\n",
              "      <td>100000</td>\n",
              "      <td>Diesel</td>\n",
              "    </tr>\n",
              "    <tr>\n",
              "      <th>6013</th>\n",
              "      <td>Mahindra Xylo D4 BSIV</td>\n",
              "      <td>Mahindra</td>\n",
              "      <td>2012</td>\n",
              "      <td>290000.0</td>\n",
              "      <td>55000</td>\n",
              "      <td>Diesel</td>\n",
              "    </tr>\n",
              "    <tr>\n",
              "      <th>6014</th>\n",
              "      <td>Maruti Wagon R VXI</td>\n",
              "      <td>Maruti</td>\n",
              "      <td>2013</td>\n",
              "      <td>265000.0</td>\n",
              "      <td>46000</td>\n",
              "      <td>Petrol</td>\n",
              "    </tr>\n",
              "    <tr>\n",
              "      <th>6015</th>\n",
              "      <td>Chevrolet Beat Diesel</td>\n",
              "      <td>Chevrolet</td>\n",
              "      <td>2011</td>\n",
              "      <td>250000.0</td>\n",
              "      <td>47000</td>\n",
              "      <td>Diesel</td>\n",
              "    </tr>\n",
              "  </tbody>\n",
              "</table>\n",
              "<p>6016 rows × 6 columns</p>\n",
              "</div>"
            ]
          },
          "metadata": {
            "tags": []
          },
          "execution_count": 107
        }
      ]
    },
    {
      "cell_type": "code",
      "metadata": {
        "id": "iiJT6lzGQNEC"
      },
      "source": [
        "X=df1.drop(columns=['price'])\n",
        "y=df1['price']\n",
        "\n",
        "from sklearn.model_selection import train_test_split\n",
        "X_train,X_test,y_train,y_test=train_test_split(X,y,test_size=0.1)"
      ],
      "execution_count": null,
      "outputs": []
    },
    {
      "cell_type": "code",
      "metadata": {
        "id": "aqv1DbxAUSC2"
      },
      "source": [
        "from sklearn.linear_model import LinearRegression"
      ],
      "execution_count": null,
      "outputs": []
    },
    {
      "cell_type": "code",
      "metadata": {
        "id": "tx54N5NnVCNj"
      },
      "source": [
        "from sklearn.preprocessing import OneHotEncoder\n",
        "from sklearn.compose import make_column_transformer\n",
        "from sklearn.pipeline import make_pipeline\n",
        "from sklearn.metrics import r2_score"
      ],
      "execution_count": null,
      "outputs": []
    },
    {
      "cell_type": "code",
      "metadata": {
        "colab": {
          "base_uri": "https://localhost:8080/"
        },
        "id": "_O54LiAEVFUA",
        "outputId": "93ad10d8-8700-4e2f-d0a2-3a195398fe7b"
      },
      "source": [
        "ohe=OneHotEncoder()\n",
        "ohe.fit(X[['name','company','fuel_type']])"
      ],
      "execution_count": null,
      "outputs": [
        {
          "output_type": "execute_result",
          "data": {
            "text/plain": [
              "OneHotEncoder()"
            ]
          },
          "metadata": {
            "tags": []
          },
          "execution_count": 117
        }
      ]
    },
    {
      "cell_type": "code",
      "metadata": {
        "id": "Ry8r8dYRVIL1"
      },
      "source": [
        "column_trans=make_column_transformer((OneHotEncoder(categories=ohe.categories_),['name','company','fuel_type']),\n",
        "                                    remainder='passthrough')"
      ],
      "execution_count": null,
      "outputs": []
    },
    {
      "cell_type": "code",
      "metadata": {
        "colab": {
          "base_uri": "https://localhost:8080/"
        },
        "id": "Pmj9jpHUW786",
        "outputId": "551842e7-a5e0-415f-d469-bd97fd26e696"
      },
      "source": [
        "column_trans"
      ],
      "execution_count": null,
      "outputs": [
        {
          "output_type": "execute_result",
          "data": {
            "text/plain": [
              "ColumnTransformer(remainder='passthrough',\n",
              "                  transformers=[('onehotencoder',\n",
              "                                 OneHotEncoder(categories=[array(['Ambassador Classic Nova Diesel', 'Audi A3 35 TDI Attraction',\n",
              "       'Audi A3 35 TDI Premium', ..., 'Volvo XC60 D5 Inscription',\n",
              "       'Volvo XC90 2007-2015 D5 AT AWD', 'Volvo XC90 2007-2015 D5 AWD'],\n",
              "      dtype=object),\n",
              "                                                           array(['Ambassador', 'Audi', 'BMW', 'Bentley', 'Chevrolet', 'Datsun',\n",
              "       'Fiat', 'Force', 'Ford', 'Honda', 'Hyundai', 'ISUZU', 'Isuzu',\n",
              "       'Jaguar', 'Jeep', 'Land', 'Mahindra', 'Maruti', 'Mercedes-Benz',\n",
              "       'Mini', 'Mitsubishi', 'Nissan', 'Porsche', 'Renault', 'Skoda',\n",
              "       'Smart', 'Tata', 'Toyota', 'Volkswagen', 'Volvo'], dtype=object),\n",
              "                                                           array(['CNG', 'Diesel', 'Electric', 'LPG', 'Petrol'], dtype=object)]),\n",
              "                                 ['name', 'company', 'fuel_type'])])"
            ]
          },
          "metadata": {
            "tags": []
          },
          "execution_count": 133
        }
      ]
    },
    {
      "cell_type": "code",
      "metadata": {
        "id": "DIFD-SVDVKfb"
      },
      "source": [
        "lr=LinearRegression()"
      ],
      "execution_count": null,
      "outputs": []
    },
    {
      "cell_type": "code",
      "metadata": {
        "id": "788RgQ-tVMwW"
      },
      "source": [
        "pipe=make_pipeline(column_trans,lr)"
      ],
      "execution_count": null,
      "outputs": []
    },
    {
      "cell_type": "code",
      "metadata": {
        "colab": {
          "base_uri": "https://localhost:8080/"
        },
        "id": "x4rycCnwVO4o",
        "outputId": "d57d29fb-3755-4481-bc1c-465e6489d5e1"
      },
      "source": [
        "pipe.fit(X_train,y_train)"
      ],
      "execution_count": null,
      "outputs": [
        {
          "output_type": "execute_result",
          "data": {
            "text/plain": [
              "Pipeline(steps=[('columntransformer',\n",
              "                 ColumnTransformer(remainder='passthrough',\n",
              "                                   transformers=[('onehotencoder',\n",
              "                                                  OneHotEncoder(categories=[array(['Ambassador Classic Nova Diesel', 'Audi A3 35 TDI Attraction',\n",
              "       'Audi A3 35 TDI Premium', ..., 'Volvo XC60 D5 Inscription',\n",
              "       'Volvo XC90 2007-2015 D5 AT AWD', 'Volvo XC90 2007-2015 D5 AWD'],\n",
              "      dtype=object),\n",
              "                                                                            array(['Ambassador', 'Audi', 'BMW', '...\n",
              "       'Fiat', 'Force', 'Ford', 'Honda', 'Hyundai', 'ISUZU', 'Isuzu',\n",
              "       'Jaguar', 'Jeep', 'Land', 'Mahindra', 'Maruti', 'Mercedes-Benz',\n",
              "       'Mini', 'Mitsubishi', 'Nissan', 'Porsche', 'Renault', 'Skoda',\n",
              "       'Smart', 'Tata', 'Toyota', 'Volkswagen', 'Volvo'], dtype=object),\n",
              "                                                                            array(['CNG', 'Diesel', 'Electric', 'LPG', 'Petrol'], dtype=object)]),\n",
              "                                                  ['name', 'company',\n",
              "                                                   'fuel_type'])])),\n",
              "                ('linearregression', LinearRegression())])"
            ]
          },
          "metadata": {
            "tags": []
          },
          "execution_count": 122
        }
      ]
    },
    {
      "cell_type": "code",
      "metadata": {
        "id": "M0rmL-H6VUsT"
      },
      "source": [
        "y_pred=pipe.predict(X_test)"
      ],
      "execution_count": null,
      "outputs": []
    },
    {
      "cell_type": "code",
      "metadata": {
        "colab": {
          "base_uri": "https://localhost:8080/"
        },
        "id": "wlYRSkf9VZED",
        "outputId": "002ba08f-ffad-45d0-ce5a-bfe2c83afd19"
      },
      "source": [
        "r2_score(y_test,y_pred)"
      ],
      "execution_count": null,
      "outputs": [
        {
          "output_type": "execute_result",
          "data": {
            "text/plain": [
              "0.7996019022496268"
            ]
          },
          "metadata": {
            "tags": []
          },
          "execution_count": 124
        }
      ]
    },
    {
      "cell_type": "code",
      "metadata": {
        "colab": {
          "base_uri": "https://localhost:8080/",
          "height": 417
        },
        "id": "UIkBQn6RWeId",
        "outputId": "6ae0ab0a-3fea-4ec5-fb0f-23f10cbad822"
      },
      "source": [
        "df1[df1['company']=='Maruti']"
      ],
      "execution_count": null,
      "outputs": [
        {
          "output_type": "execute_result",
          "data": {
            "text/plain": [
              "                             name company  year     price  kms_driven  \\\n",
              "0          Maruti Wagon R LXI CNG  Maruti  2010  175000.0       72000   \n",
              "3               Maruti Ertiga VDI  Maruti  2012  600000.0       87000   \n",
              "10               Maruti Ciaz Zeta  Maruti  2018  995000.0       25692   \n",
              "12          Maruti Swift VDI BSIV  Maruti  2015  560000.0       64424   \n",
              "17          Maruti Swift DDiS VDI  Maruti  2017  599000.0       25000   \n",
              "...                           ...     ...   ...       ...         ...   \n",
              "6000           Maruti Celerio VXI  Maruti  2015  400000.0       67600   \n",
              "6002     Maruti Vitara Brezza VDi  Maruti  2016  743000.0       37208   \n",
              "6004  Maruti Swift Dzire Vdi BSIV  Maruti  2011  275000.0       68000   \n",
              "6011             Maruti Swift VDI  Maruti  2014  475000.0       27365   \n",
              "6014           Maruti Wagon R VXI  Maruti  2013  265000.0       46000   \n",
              "\n",
              "     fuel_type  \n",
              "0          CNG  \n",
              "3       Diesel  \n",
              "10      Petrol  \n",
              "12      Diesel  \n",
              "17      Diesel  \n",
              "...        ...  \n",
              "6000    Petrol  \n",
              "6002    Diesel  \n",
              "6004    Diesel  \n",
              "6011    Diesel  \n",
              "6014    Petrol  \n",
              "\n",
              "[1211 rows x 6 columns]"
            ],
            "text/html": [
              "<div>\n",
              "<style scoped>\n",
              "    .dataframe tbody tr th:only-of-type {\n",
              "        vertical-align: middle;\n",
              "    }\n",
              "\n",
              "    .dataframe tbody tr th {\n",
              "        vertical-align: top;\n",
              "    }\n",
              "\n",
              "    .dataframe thead th {\n",
              "        text-align: right;\n",
              "    }\n",
              "</style>\n",
              "<table border=\"1\" class=\"dataframe\">\n",
              "  <thead>\n",
              "    <tr style=\"text-align: right;\">\n",
              "      <th></th>\n",
              "      <th>name</th>\n",
              "      <th>company</th>\n",
              "      <th>year</th>\n",
              "      <th>price</th>\n",
              "      <th>kms_driven</th>\n",
              "      <th>fuel_type</th>\n",
              "    </tr>\n",
              "  </thead>\n",
              "  <tbody>\n",
              "    <tr>\n",
              "      <th>0</th>\n",
              "      <td>Maruti Wagon R LXI CNG</td>\n",
              "      <td>Maruti</td>\n",
              "      <td>2010</td>\n",
              "      <td>175000.0</td>\n",
              "      <td>72000</td>\n",
              "      <td>CNG</td>\n",
              "    </tr>\n",
              "    <tr>\n",
              "      <th>3</th>\n",
              "      <td>Maruti Ertiga VDI</td>\n",
              "      <td>Maruti</td>\n",
              "      <td>2012</td>\n",
              "      <td>600000.0</td>\n",
              "      <td>87000</td>\n",
              "      <td>Diesel</td>\n",
              "    </tr>\n",
              "    <tr>\n",
              "      <th>10</th>\n",
              "      <td>Maruti Ciaz Zeta</td>\n",
              "      <td>Maruti</td>\n",
              "      <td>2018</td>\n",
              "      <td>995000.0</td>\n",
              "      <td>25692</td>\n",
              "      <td>Petrol</td>\n",
              "    </tr>\n",
              "    <tr>\n",
              "      <th>12</th>\n",
              "      <td>Maruti Swift VDI BSIV</td>\n",
              "      <td>Maruti</td>\n",
              "      <td>2015</td>\n",
              "      <td>560000.0</td>\n",
              "      <td>64424</td>\n",
              "      <td>Diesel</td>\n",
              "    </tr>\n",
              "    <tr>\n",
              "      <th>17</th>\n",
              "      <td>Maruti Swift DDiS VDI</td>\n",
              "      <td>Maruti</td>\n",
              "      <td>2017</td>\n",
              "      <td>599000.0</td>\n",
              "      <td>25000</td>\n",
              "      <td>Diesel</td>\n",
              "    </tr>\n",
              "    <tr>\n",
              "      <th>...</th>\n",
              "      <td>...</td>\n",
              "      <td>...</td>\n",
              "      <td>...</td>\n",
              "      <td>...</td>\n",
              "      <td>...</td>\n",
              "      <td>...</td>\n",
              "    </tr>\n",
              "    <tr>\n",
              "      <th>6000</th>\n",
              "      <td>Maruti Celerio VXI</td>\n",
              "      <td>Maruti</td>\n",
              "      <td>2015</td>\n",
              "      <td>400000.0</td>\n",
              "      <td>67600</td>\n",
              "      <td>Petrol</td>\n",
              "    </tr>\n",
              "    <tr>\n",
              "      <th>6002</th>\n",
              "      <td>Maruti Vitara Brezza VDi</td>\n",
              "      <td>Maruti</td>\n",
              "      <td>2016</td>\n",
              "      <td>743000.0</td>\n",
              "      <td>37208</td>\n",
              "      <td>Diesel</td>\n",
              "    </tr>\n",
              "    <tr>\n",
              "      <th>6004</th>\n",
              "      <td>Maruti Swift Dzire Vdi BSIV</td>\n",
              "      <td>Maruti</td>\n",
              "      <td>2011</td>\n",
              "      <td>275000.0</td>\n",
              "      <td>68000</td>\n",
              "      <td>Diesel</td>\n",
              "    </tr>\n",
              "    <tr>\n",
              "      <th>6011</th>\n",
              "      <td>Maruti Swift VDI</td>\n",
              "      <td>Maruti</td>\n",
              "      <td>2014</td>\n",
              "      <td>475000.0</td>\n",
              "      <td>27365</td>\n",
              "      <td>Diesel</td>\n",
              "    </tr>\n",
              "    <tr>\n",
              "      <th>6014</th>\n",
              "      <td>Maruti Wagon R VXI</td>\n",
              "      <td>Maruti</td>\n",
              "      <td>2013</td>\n",
              "      <td>265000.0</td>\n",
              "      <td>46000</td>\n",
              "      <td>Petrol</td>\n",
              "    </tr>\n",
              "  </tbody>\n",
              "</table>\n",
              "<p>1211 rows × 6 columns</p>\n",
              "</div>"
            ]
          },
          "metadata": {
            "tags": []
          },
          "execution_count": 130
        }
      ]
    },
    {
      "cell_type": "code",
      "metadata": {
        "id": "ly1ss6cxi2N1"
      },
      "source": [
        "scores=[]\n",
        "for i in range(10000):\n",
        "    X_train,X_test,y_train,y_test=train_test_split(X,y,test_size=0.1,random_state=i)\n",
        "    lr=LinearRegression()\n",
        "    pipe=make_pipeline(column_trans,lr)\n",
        "    pipe.fit(X_train,y_train)\n",
        "    y_pred=pipe.predict(X_test)\n",
        "    scores.append(r2_score(y_test,y_pred))"
      ],
      "execution_count": null,
      "outputs": []
    },
    {
      "cell_type": "code",
      "metadata": {
        "colab": {
          "base_uri": "https://localhost:8080/"
        },
        "id": "lxzMYOyNjL27",
        "outputId": "9a5e5e36-d129-4e50-f9e6-fe57bfa91807"
      },
      "source": [
        "np.argmax(scores)"
      ],
      "execution_count": null,
      "outputs": [
        {
          "output_type": "execute_result",
          "data": {
            "text/plain": [
              "2311"
            ]
          },
          "metadata": {
            "tags": []
          },
          "execution_count": 140
        }
      ]
    },
    {
      "cell_type": "code",
      "metadata": {
        "colab": {
          "base_uri": "https://localhost:8080/"
        },
        "id": "wJvMfEN1jZLV",
        "outputId": "e775432d-3d49-4309-cce0-38a1d4b45cb7"
      },
      "source": [
        "scores[np.argmax(scores)]"
      ],
      "execution_count": null,
      "outputs": [
        {
          "output_type": "execute_result",
          "data": {
            "text/plain": [
              "0.93553240180087"
            ]
          },
          "metadata": {
            "tags": []
          },
          "execution_count": 141
        }
      ]
    },
    {
      "cell_type": "code",
      "metadata": {
        "colab": {
          "base_uri": "https://localhost:8080/"
        },
        "id": "t4VUehfilAx8",
        "outputId": "924625bb-13ee-4f0f-aed8-668b27e6b9d9"
      },
      "source": [
        "X_train,X_test,y_train,y_test=train_test_split(X,y,test_size=0.1,random_state=np.argmax(scores))\n",
        "lr=LinearRegression()\n",
        "pipe=make_pipeline(column_trans,lr)\n",
        "pipe.fit(X_train,y_train)\n",
        "y_pred=pipe.predict(X_test)\n",
        "r2_score(y_test,y_pred)"
      ],
      "execution_count": null,
      "outputs": [
        {
          "output_type": "execute_result",
          "data": {
            "text/plain": [
              "0.93553240180087"
            ]
          },
          "metadata": {
            "tags": []
          },
          "execution_count": 142
        }
      ]
    },
    {
      "cell_type": "code",
      "metadata": {
        "id": "0V1T9CgHV-Ly"
      },
      "source": [
        "import pickle"
      ],
      "execution_count": null,
      "outputs": []
    },
    {
      "cell_type": "code",
      "metadata": {
        "id": "CYnVcwiYXoH-"
      },
      "source": [
        "pickle.dump(pipe,open('LinearRegressionModel.pkl','wb'))"
      ],
      "execution_count": null,
      "outputs": []
    },
    {
      "cell_type": "code",
      "metadata": {
        "colab": {
          "base_uri": "https://localhost:8080/"
        },
        "id": "kPTbYxdHsjSL",
        "outputId": "41980bdc-31e4-4731-9dae-1cbaa4d2a3fe"
      },
      "source": [
        "cd C:\\Users\\Dell\\Desktop\\Flask\\Page"
      ],
      "execution_count": null,
      "outputs": [
        {
          "output_type": "stream",
          "text": [
            "C:\\Users\\Dell\\Desktop\\Flask\\Page\n"
          ],
          "name": "stdout"
        }
      ]
    },
    {
      "cell_type": "code",
      "metadata": {
        "id": "pVrYqlMMXqbo"
      },
      "source": [
        "model=pickle.load(open('LinearRegressionModel.pkl','rb'))"
      ],
      "execution_count": null,
      "outputs": []
    },
    {
      "cell_type": "code",
      "metadata": {
        "id": "tF9AkhjPsobb"
      },
      "source": [
        "prediction=model.predict(pd.DataFrame(columns=['name', 'company', 'year', 'kms_driven', 'fuel_type'],\n",
        "                              data=np.array(['Maruti Celerio VXI','Maruti',2019,100,'Petrol']).reshape(1,5)))"
      ],
      "execution_count": null,
      "outputs": []
    },
    {
      "cell_type": "code",
      "metadata": {
        "colab": {
          "base_uri": "https://localhost:8080/"
        },
        "id": "yl5iw0Ces_qA",
        "outputId": "023f5e2c-4bbf-4774-e3b6-ace6e0cebeca"
      },
      "source": [
        "prediction"
      ],
      "execution_count": null,
      "outputs": [
        {
          "output_type": "execute_result",
          "data": {
            "text/plain": [
              "array([749680.37054285])"
            ]
          },
          "metadata": {
            "tags": []
          },
          "execution_count": 10
        }
      ]
    },
    {
      "cell_type": "code",
      "metadata": {
        "id": "7YXvEoaDtG19"
      },
      "source": [
        ""
      ],
      "execution_count": null,
      "outputs": []
    }
  ]
}